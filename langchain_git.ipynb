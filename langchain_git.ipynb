{
 "cells": [
  {
   "cell_type": "code",
   "execution_count": 2,
   "id": "f494c7e6",
   "metadata": {
    "scrolled": true
   },
   "outputs": [
    {
     "name": "stdout",
     "output_type": "stream",
     "text": [
      "Defaulting to user installation because normal site-packages is not writeable\n",
      "Requirement already satisfied: langchain==0.0.55 in /home/morphine/.local/lib/python3.10/site-packages (0.0.55)\n",
      "Requirement already satisfied: requests in /home/morphine/.local/lib/python3.10/site-packages (2.28.2)\n",
      "Requirement already satisfied: openai in /home/morphine/.local/lib/python3.10/site-packages (0.27.2)\n",
      "Requirement already satisfied: transformers in /home/morphine/.local/lib/python3.10/site-packages (4.27.3)\n",
      "Requirement already satisfied: faiss-cpu in /home/morphine/.local/lib/python3.10/site-packages (1.7.3)\n",
      "Requirement already satisfied: pydantic<2,>=1 in /home/morphine/.local/lib/python3.10/site-packages (from langchain==0.0.55) (1.9.2)\n",
      "Requirement already satisfied: numpy<2,>=1 in /home/morphine/.local/lib/python3.10/site-packages (from langchain==0.0.55) (1.24.2)\n",
      "Requirement already satisfied: PyYAML<7,>=6 in /home/morphine/.local/lib/python3.10/site-packages (from langchain==0.0.55) (6.0)\n",
      "Requirement already satisfied: SQLAlchemy<2,>=1 in /home/morphine/.local/lib/python3.10/site-packages (from langchain==0.0.55) (1.4.47)\n",
      "Requirement already satisfied: charset-normalizer<4,>=2 in /home/morphine/.local/lib/python3.10/site-packages (from requests) (3.0.1)\n",
      "Requirement already satisfied: certifi>=2017.4.17 in /usr/lib/python3/dist-packages (from requests) (2020.6.20)\n",
      "Requirement already satisfied: urllib3<1.27,>=1.21.1 in /usr/lib/python3/dist-packages (from requests) (1.26.5)\n",
      "Requirement already satisfied: idna<4,>=2.5 in /usr/lib/python3/dist-packages (from requests) (3.3)\n",
      "Requirement already satisfied: aiohttp in /home/morphine/.local/lib/python3.10/site-packages (from openai) (3.8.4)\n",
      "Requirement already satisfied: tqdm in /home/morphine/.local/lib/python3.10/site-packages (from openai) (4.65.0)\n",
      "Requirement already satisfied: tokenizers!=0.11.3,<0.14,>=0.11.1 in /home/morphine/.local/lib/python3.10/site-packages (from transformers) (0.13.2)\n",
      "Requirement already satisfied: huggingface-hub<1.0,>=0.11.0 in /home/morphine/.local/lib/python3.10/site-packages (from transformers) (0.13.3)\n",
      "Requirement already satisfied: packaging>=20.0 in /home/morphine/.local/lib/python3.10/site-packages (from transformers) (23.0)\n",
      "Requirement already satisfied: regex!=2019.12.17 in /home/morphine/.local/lib/python3.10/site-packages (from transformers) (2023.3.23)\n",
      "Requirement already satisfied: filelock in /home/morphine/.local/lib/python3.10/site-packages (from transformers) (3.9.0)\n",
      "Requirement already satisfied: typing-extensions>=3.7.4.3 in /home/morphine/.local/lib/python3.10/site-packages (from huggingface-hub<1.0,>=0.11.0->transformers) (4.0.1)\n",
      "Requirement already satisfied: greenlet!=0.4.17 in /home/morphine/.local/lib/python3.10/site-packages (from SQLAlchemy<2,>=1->langchain==0.0.55) (2.0.2)\n",
      "Requirement already satisfied: aiosignal>=1.1.2 in /home/morphine/.local/lib/python3.10/site-packages (from aiohttp->openai) (1.3.1)\n",
      "Requirement already satisfied: attrs>=17.3.0 in /home/morphine/.local/lib/python3.10/site-packages (from aiohttp->openai) (22.2.0)\n",
      "Requirement already satisfied: yarl<2.0,>=1.0 in /home/morphine/.local/lib/python3.10/site-packages (from aiohttp->openai) (1.8.2)\n",
      "Requirement already satisfied: frozenlist>=1.1.1 in /home/morphine/.local/lib/python3.10/site-packages (from aiohttp->openai) (1.3.3)\n",
      "Requirement already satisfied: multidict<7.0,>=4.5 in /home/morphine/.local/lib/python3.10/site-packages (from aiohttp->openai) (6.0.4)\n",
      "Requirement already satisfied: async-timeout<5.0,>=4.0.0a3 in /home/morphine/.local/lib/python3.10/site-packages (from aiohttp->openai) (4.0.2)\n",
      "Note: you may need to restart the kernel to use updated packages.\n"
     ]
    }
   ],
   "source": [
    "pip install langchain==0.0.55 requests openai transformers faiss-cpu"
   ]
  },
  {
   "cell_type": "code",
   "execution_count": 1,
   "id": "25de99e9",
   "metadata": {},
   "outputs": [],
   "source": [
    "# from langchain.document_loaders import UnstructuredWordDocumentLoader\n",
    "# from langchain.text_splitter import RecursiveCharacterTextSplitter"
   ]
  },
  {
   "cell_type": "code",
   "execution_count": 4,
   "id": "2e7b4ad4",
   "metadata": {},
   "outputs": [],
   "source": [
    "from langchain.llms import OpenAI\n",
    "from langchain.chains.qa_with_sources import load_qa_with_sources_chain\n",
    "from langchain.docstore.document import Document\n",
    "import requests"
   ]
  },
  {
   "cell_type": "code",
   "execution_count": 6,
   "id": "a155f2c9",
   "metadata": {},
   "outputs": [],
   "source": [
    "import os\n",
    "os.environ[\"OPENAI_API_KEY\"] = \"...\""
   ]
  },
  {
   "cell_type": "code",
   "execution_count": 7,
   "id": "46bd036e",
   "metadata": {},
   "outputs": [],
   "source": [
    "def get_wiki_data(title, first_paragraph_only):\n",
    "    url = f\"https://en.wikipedia.org/w/api.php?format=json&action=query&prop=extracts&explaintext=1&titles={title}\"\n",
    "    if first_paragraph_only:\n",
    "        url += \"&exintro=1\"\n",
    "    data = requests.get(url).json()\n",
    "    return Document(\n",
    "        page_content=list(data[\"query\"][\"pages\"].values())[0][\"extract\"],\n",
    "        metadata={\"source\": f\"https://en.wikipedia.org/wiki/{title}\"},\n",
    "    )"
   ]
  },
  {
   "cell_type": "code",
   "execution_count": 7,
   "id": "22c15fe5",
   "metadata": {},
   "outputs": [],
   "source": [
    "# chain = load_qa_with_sources_chain(OpenAI(temperature=0))\n",
    "\n",
    "# def print_answer(question):\n",
    "#     print(\n",
    "#         chain(\n",
    "#             {\n",
    "#                 \"input_documents\": sources,\n",
    "#                 \"question\": question,\n",
    "#             },\n",
    "#             return_only_outputs=True,\n",
    "#         )[\"output_text\"]\n",
    "#     )"
   ]
  },
  {
   "cell_type": "code",
   "execution_count": 10,
   "id": "907edaa6",
   "metadata": {},
   "outputs": [],
   "source": [
    "# llm = OpenAI(temperature=0)"
   ]
  },
  {
   "cell_type": "code",
   "execution_count": 11,
   "id": "098ca942",
   "metadata": {},
   "outputs": [
    {
     "name": "stdout",
     "output_type": "stream",
     "text": [
      "\n",
      "\n",
      "The writers of Seinfeld were Larry David, Jerry Seinfeld, Peter Mehlman, Larry Charles, Carol Leifer, David Mandel, Jeff Schaffer, Steve Koren, Jennifer Crittenden, Tom Gammill, Max Pross, Marjorie Gross, Gregg Kavet, Andy Robin, and Bruce Eric Kaplan.\n"
     ]
    }
   ],
   "source": [
    "# text = \"Who were the writers of Seinfeld?\"\n",
    "# print(llm(text))"
   ]
  },
  {
   "cell_type": "code",
   "execution_count": 44,
   "id": "573ff44a",
   "metadata": {},
   "outputs": [],
   "source": [
    "form = \"\"\"Question: What are the main differences between Linux and Windows?\n",
    "\n",
    "Answer:\n",
    "Linux and Windows are both operating systems, but Linux is open-source and Unix-like, while Windows is proprietary and developed by Microsoft. Linux is used on servers, embedded systems, and desktop computers, while Windows is mainly used on desktop computers.\n",
    "SOURCES:\n",
    "https://en.wikipedia.org/wiki/Unix\n",
    "https://en.wikipedia.org/wiki/Microsoft_Windows\n",
    "https://en.wikipedia.org/wiki/Linux\\n\\nQuestion: {}\\nSOURCES:\"\"\"\n"
   ]
  },
  {
   "cell_type": "code",
   "execution_count": 38,
   "id": "1e2ea822",
   "metadata": {},
   "outputs": [
    {
     "name": "stdout",
     "output_type": "stream",
     "text": [
      "\n",
      "Answer: Keynesian economics is an economic theory that emphasizes the role of government intervention in managing aggregate demand and stabilizing the economy. It is based on the idea that government spending and taxation can be used to influence economic activity. Classical economics, on the other hand, is an economic theory that emphasizes the role of the free market in determining prices and production levels. It is based on the idea that the market is self-regulating and that government intervention should be limited.\n",
      "https://en.wikipedia.org/wiki/Keynesian_economics\n",
      "https://en.wikipedia.org/wiki/Classical_economics\n"
     ]
    }
   ],
   "source": [
    "# text = form.format(\"What are the differences between Keynesian and classical economics?\")\n",
    "# print(llm(text))"
   ]
  },
  {
   "cell_type": "code",
   "execution_count": 57,
   "id": "c0a49bb1",
   "metadata": {},
   "outputs": [],
   "source": [
    "# chain = load_qa_with_sources_chain(OpenAI(temperature=0))"
   ]
  },
  {
   "cell_type": "code",
   "execution_count": 46,
   "id": "a2a4569d",
   "metadata": {
    "scrolled": true
   },
   "outputs": [
    {
     "name": "stdout",
     "output_type": "stream",
     "text": [
      "\n",
      "Answer: The main differences between Linux and Windows are the operating system architecture, user interface, and cost. Linux is open-source and Unix-like, while Windows is proprietary and developed by Microsoft. Linux is used on servers, embedded systems, and desktop computers, while Windows is mainly used on desktop computers. Linux is generally free to use, while Windows requires a license to use. Linux has a command-line interface, while Windows has a graphical user interface.\n",
      "\n",
      "SOURCES:\n",
      "https://en.wikipedia.org/wiki/Unix\n",
      "https://en.wikipedia.org/wiki/Microsoft_Windows\n",
      "https://en.wikipedia.org/wiki/Linux\n"
     ]
    }
   ],
   "source": [
    "# text = form.format(\"What are the main differences between Linux and Windows?\")\n",
    "# print(llm(text))"
   ]
  },
  {
   "cell_type": "code",
   "execution_count": 12,
   "id": "336e8c74",
   "metadata": {},
   "outputs": [],
   "source": [
    "# sources = [\n",
    "#     get_wiki_data(\"Unix\", False),\n",
    "#     get_wiki_data(\"Microsoft_Windows\", False),\n",
    "#     get_wiki_data(\"Linux\", False),\n",
    "#     get_wiki_data(\"Seinfeld\", False),\n",
    "#     get_wiki_data(\"Matchbox_Twenty\", False),\n",
    "#     get_wiki_data(\"Roman_Empire\", False),\n",
    "#     get_wiki_data(\"London\", False),\n",
    "#     get_wiki_data(\"Python_(programming_language)\", False),\n",
    "#     get_wiki_data(\"Monty_Python\", False),\n",
    "# ]"
   ]
  },
  {
   "cell_type": "code",
   "execution_count": 14,
   "id": "d04a0ad1",
   "metadata": {},
   "outputs": [],
   "source": [
    "from langchain.text_splitter import CharacterTextSplitter"
   ]
  },
  {
   "cell_type": "code",
   "execution_count": 23,
   "id": "c36d71a7",
   "metadata": {},
   "outputs": [
    {
     "name": "stderr",
     "output_type": "stream",
     "text": [
      "Cloning into '.'...\n",
      "Updating files: 100% (6157/6157), done.\n"
     ]
    }
   ],
   "source": [
    "# source_chunks = []\n",
    "# splitter = CharacterTextSplitter(separator=\" \", chunk_size=1024, chunk_overlap=0)\n",
    "# for source in sources:\n",
    "#     for chunk in splitter.split_text(source.page_content):\n",
    "#         source_chunks.append(Document(page_content=chunk, metadata=source.metadata))\n",
    "\n",
    "# search_index = FAISS.from_documents(source_chunks, OpenAIEmbeddings())"
   ]
  },
  {
   "cell_type": "code",
   "execution_count": 2,
   "id": "a9ee52a6",
   "metadata": {},
   "outputs": [],
   "source": [
    "# from langchain.embeddings.openai import OpenAIEmbeddings\n",
    "# from langchain.vectorstores.faiss import FAISS\n",
    "\n",
    "# search_index = FAISS.from_documents(sources, OpenAIEmbeddings())"
   ]
  },
  {
   "cell_type": "code",
   "execution_count": 10,
   "id": "f05bf33f",
   "metadata": {},
   "outputs": [],
   "source": [
    "chain = load_qa_with_sources_chain(OpenAI(temperature=0))\n",
    "\n",
    "def print_answer(question):\n",
    "    print(\n",
    "        chain(\n",
    "            {\n",
    "                \"input_documents\": search_index.similarity_search(question, k=4),\n",
    "                \"question\": question,\n",
    "            },\n",
    "            return_only_outputs=True,\n",
    "        )[\"output_text\"]\n",
    "    )"
   ]
  },
  {
   "cell_type": "code",
   "execution_count": 16,
   "id": "b33f79c4",
   "metadata": {},
   "outputs": [
    {
     "name": "stdout",
     "output_type": "stream",
     "text": [
      " Rob Thomas, Paul Doucette, Kyle Cook, and Adam Gaynor play guitar in Matchbox 20.\n",
      "SOURCES: https://en.wikipedia.org/wiki/Matchbox_Twenty\n"
     ]
    }
   ],
   "source": [
    "# print_answer(\"Which members of Matchbox 20 play guitar?\")"
   ]
  },
  {
   "cell_type": "code",
   "execution_count": 21,
   "id": "01d1b059",
   "metadata": {},
   "outputs": [],
   "source": [
    "import pathlib\n",
    "import subprocess\n",
    "import tempfile"
   ]
  },
  {
   "cell_type": "code",
   "execution_count": 18,
   "id": "82ad336f",
   "metadata": {},
   "outputs": [],
   "source": [
    "def get_github_docs(repo_owner, repo_name):\n",
    "    with tempfile.TemporaryDirectory() as d:\n",
    "        subprocess.check_call(\n",
    "            f\"git clone --depth 1 https://github.com/{repo_owner}/{repo_name}.git .\",\n",
    "            cwd=d,\n",
    "            shell=True,\n",
    "        )\n",
    "        git_sha = (\n",
    "            subprocess.check_output(\"git rev-parse HEAD\", shell=True, cwd=d)\n",
    "            .decode(\"utf-8\")\n",
    "            .strip()\n",
    "        )\n",
    "        repo_path = pathlib.Path(d)\n",
    "        markdown_files = list(repo_path.glob(\"*/*.md\")) + list(\n",
    "            repo_path.glob(\"*/*.mdx\")\n",
    "        )\n",
    "        for markdown_file in markdown_files:\n",
    "            with open(markdown_file, \"r\") as f:\n",
    "                relative_path = markdown_file.relative_to(repo_path)\n",
    "                github_url = f\"https://github.com/{repo_owner}/{repo_name}/blob/{git_sha}/{relative_path}\"\n",
    "                yield Document(page_content=f.read(), metadata={\"source\": github_url})"
   ]
  },
  {
   "cell_type": "code",
   "execution_count": 22,
   "id": "827e1226",
   "metadata": {},
   "outputs": [],
   "source": [
    "sources = get_github_docs(\"dagster-io\", \"dagster\")"
   ]
  },
  {
   "cell_type": "code",
   "execution_count": null,
   "id": "25fcb3ef",
   "metadata": {},
   "outputs": [],
   "source": [
    "source_chunks = []\n",
    "splitter = CharacterTextSplitter(separator=\" \", chunk_size=1024, chunk_overlap=0)\n",
    "for source in sources:\n",
    "    for chunk in splitter.split_text(source.page_content):\n",
    "        source_chunks.append(Document(page_content=chunk, metadata=source.metadata))\n",
    "\n",
    "search_index = FAISS.from_documents(source_chunks, OpenAIEmbeddings())"
   ]
  },
  {
   "cell_type": "code",
   "execution_count": 24,
   "id": "c512ec12",
   "metadata": {},
   "outputs": [
    {
     "name": "stdout",
     "output_type": "stream",
     "text": [
      " A software defined asset is a type of asset that is managed by software.\n",
      "SOURCES: https://github.com/dagster-io/dagster/blob/2136b08bb6eb98feab520b9bf31e1b64d630d590/docs/README.md\n"
     ]
    }
   ],
   "source": [
    "print_answer(\"what is a software defined asset\")"
   ]
  },
  {
   "cell_type": "code",
   "execution_count": 25,
   "id": "1433b9f3",
   "metadata": {},
   "outputs": [
    {
     "name": "stdout",
     "output_type": "stream",
     "text": [
      "\n",
      "Ops are operations that are performed on data, jobs are a set of operations that are performed together, assets are the data that is used in the operations, and graphs are the visual representation of the operations and data.\n",
      "SOURCES: https://github.com/dagster-io/dagster/blob/2136b08bb6eb98feab520b9bf31e1b64d630d590/docs/README.md, https://github.com/dagster-io/dagster/blob/2136b08bb6eb98feab520b9bf31e1b64d630d590/docs/DOC_CHECKLIST.md\n"
     ]
    }
   ],
   "source": [
    "print_answer(\"what is the difference between ops, jobs, assets and graphs\")"
   ]
  }
 ],
 "metadata": {
  "kernelspec": {
   "display_name": "Python 3 (ipykernel)",
   "language": "python",
   "name": "python3"
  },
  "language_info": {
   "codemirror_mode": {
    "name": "ipython",
    "version": 3
   },
   "file_extension": ".py",
   "mimetype": "text/x-python",
   "name": "python",
   "nbconvert_exporter": "python",
   "pygments_lexer": "ipython3",
   "version": "3.10.6"
  }
 },
 "nbformat": 4,
 "nbformat_minor": 5
}
