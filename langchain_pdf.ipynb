{
 "cells": [
  {
   "cell_type": "code",
   "execution_count": 2,
   "id": "1d685906",
   "metadata": {},
   "outputs": [
    {
     "name": "stdout",
     "output_type": "stream",
     "text": [
      "Defaulting to user installation because normal site-packages is not writeable\n",
      "Requirement already satisfied: unstructured[local-inference] in /home/morphine/.local/lib/python3.10/site-packages (0.5.9)\n",
      "Requirement already satisfied: python-magic in /home/morphine/.local/lib/python3.10/site-packages (from unstructured[local-inference]) (0.4.27)\n",
      "Requirement already satisfied: python-docx in /home/morphine/.local/lib/python3.10/site-packages (from unstructured[local-inference]) (0.8.11)\n",
      "Requirement already satisfied: requests in /home/morphine/.local/lib/python3.10/site-packages (from unstructured[local-inference]) (2.28.2)\n",
      "Requirement already satisfied: python-pptx in /home/morphine/.local/lib/python3.10/site-packages (from unstructured[local-inference]) (0.6.21)\n",
      "Requirement already satisfied: certifi>=2022.12.07 in /home/morphine/.local/lib/python3.10/site-packages (from unstructured[local-inference]) (2022.12.7)\n",
      "Requirement already satisfied: pandas in /home/morphine/.local/lib/python3.10/site-packages (from unstructured[local-inference]) (1.5.3)\n",
      "Requirement already satisfied: nltk in /home/morphine/.local/lib/python3.10/site-packages (from unstructured[local-inference]) (3.8.1)\n",
      "Requirement already satisfied: argilla in /home/morphine/.local/lib/python3.10/site-packages (from unstructured[local-inference]) (1.5.1)\n",
      "Requirement already satisfied: msg-parser in /home/morphine/.local/lib/python3.10/site-packages (from unstructured[local-inference]) (1.2.0)\n",
      "Requirement already satisfied: pillow in /home/morphine/.local/lib/python3.10/site-packages (from unstructured[local-inference]) (9.5.0)\n",
      "Requirement already satisfied: lxml in /home/morphine/.local/lib/python3.10/site-packages (from unstructured[local-inference]) (4.9.2)\n",
      "Requirement already satisfied: markdown in /home/morphine/.local/lib/python3.10/site-packages (from unstructured[local-inference]) (3.1.1)\n",
      "Requirement already satisfied: openpyxl in /home/morphine/.local/lib/python3.10/site-packages (from unstructured[local-inference]) (3.1.2)\n",
      "Requirement already satisfied: pypandoc in /home/morphine/.local/lib/python3.10/site-packages (from unstructured[local-inference]) (1.11)\n",
      "Requirement already satisfied: unstructured-inference~=0.2.4 in /home/morphine/.local/lib/python3.10/site-packages (from unstructured[local-inference]) (0.2.11)\n",
      "Requirement already satisfied: fastapi in /home/morphine/.local/lib/python3.10/site-packages (from unstructured-inference~=0.2.4->unstructured[local-inference]) (0.95.0)\n",
      "Requirement already satisfied: huggingface-hub in /home/morphine/.local/lib/python3.10/site-packages (from unstructured-inference~=0.2.4->unstructured[local-inference]) (0.13.3)\n",
      "Requirement already satisfied: transformers in /home/morphine/.local/lib/python3.10/site-packages (from unstructured-inference~=0.2.4->unstructured[local-inference]) (4.27.3)\n",
      "Requirement already satisfied: python-multipart in /home/morphine/.local/lib/python3.10/site-packages (from unstructured-inference~=0.2.4->unstructured[local-inference]) (0.0.6)\n",
      "Requirement already satisfied: uvicorn in /home/morphine/.local/lib/python3.10/site-packages (from unstructured-inference~=0.2.4->unstructured[local-inference]) (0.21.1)\n",
      "Requirement already satisfied: layoutparser[layoutmodels,tesseract] in /home/morphine/.local/lib/python3.10/site-packages (from unstructured-inference~=0.2.4->unstructured[local-inference]) (0.3.4)\n",
      "Requirement already satisfied: opencv-python==4.6.0.66 in /home/morphine/.local/lib/python3.10/site-packages (from unstructured-inference~=0.2.4->unstructured[local-inference]) (4.6.0.66)\n",
      "Requirement already satisfied: onnxruntime in /home/morphine/.local/lib/python3.10/site-packages (from unstructured-inference~=0.2.4->unstructured[local-inference]) (1.14.1)\n",
      "Requirement already satisfied: numpy>=1.14.5 in /home/morphine/.local/lib/python3.10/site-packages (from opencv-python==4.6.0.66->unstructured-inference~=0.2.4->unstructured[local-inference]) (1.23.5)\n",
      "Requirement already satisfied: httpx<0.24,>=0.15 in /home/morphine/.local/lib/python3.10/site-packages (from argilla->unstructured[local-inference]) (0.23.3)\n",
      "Requirement already satisfied: deprecated~=1.2.0 in /home/morphine/.local/lib/python3.10/site-packages (from argilla->unstructured[local-inference]) (1.2.13)\n",
      "Requirement already satisfied: packaging>=20.0 in /home/morphine/.local/lib/python3.10/site-packages (from argilla->unstructured[local-inference]) (23.0)\n",
      "Requirement already satisfied: backoff in /home/morphine/.local/lib/python3.10/site-packages (from argilla->unstructured[local-inference]) (2.2.1)\n",
      "Requirement already satisfied: rich<=13.0.1 in /home/morphine/.local/lib/python3.10/site-packages (from argilla->unstructured[local-inference]) (13.0.1)\n",
      "Requirement already satisfied: monotonic in /usr/lib/python3/dist-packages (from argilla->unstructured[local-inference]) (1.6)\n",
      "Requirement already satisfied: tqdm>=4.27.0 in /home/morphine/.local/lib/python3.10/site-packages (from argilla->unstructured[local-inference]) (4.65.0)\n",
      "Requirement already satisfied: wrapt<1.15,>=1.13 in /home/morphine/.local/lib/python3.10/site-packages (from argilla->unstructured[local-inference]) (1.14.1)\n",
      "Requirement already satisfied: pydantic>=1.7.1 in /home/morphine/.local/lib/python3.10/site-packages (from argilla->unstructured[local-inference]) (1.9.2)\n",
      "Requirement already satisfied: pytz>=2020.1 in /home/morphine/.local/lib/python3.10/site-packages (from pandas->unstructured[local-inference]) (2021.3)\n",
      "Requirement already satisfied: python-dateutil>=2.8.1 in /home/morphine/.local/lib/python3.10/site-packages (from pandas->unstructured[local-inference]) (2.8.2)\n",
      "Requirement already satisfied: setuptools>=36 in /home/morphine/.local/lib/python3.10/site-packages (from markdown->unstructured[local-inference]) (67.6.0)\n",
      "Requirement already satisfied: olefile>=0.46 in /usr/lib/python3/dist-packages (from msg-parser->unstructured[local-inference]) (0.46)\n",
      "Requirement already satisfied: joblib in /home/morphine/.local/lib/python3.10/site-packages (from nltk->unstructured[local-inference]) (1.2.0)\n",
      "Requirement already satisfied: regex>=2021.8.3 in /home/morphine/.local/lib/python3.10/site-packages (from nltk->unstructured[local-inference]) (2023.3.23)\n",
      "Requirement already satisfied: click in /usr/lib/python3/dist-packages (from nltk->unstructured[local-inference]) (8.0.3)\n",
      "Requirement already satisfied: et-xmlfile in /home/morphine/.local/lib/python3.10/site-packages (from openpyxl->unstructured[local-inference]) (1.1.0)\n",
      "Requirement already satisfied: XlsxWriter>=0.5.7 in /home/morphine/.local/lib/python3.10/site-packages (from python-pptx->unstructured[local-inference]) (3.0.9)\n",
      "Requirement already satisfied: idna<4,>=2.5 in /usr/lib/python3/dist-packages (from requests->unstructured[local-inference]) (3.3)\n",
      "Requirement already satisfied: urllib3<1.27,>=1.21.1 in /usr/lib/python3/dist-packages (from requests->unstructured[local-inference]) (1.26.5)\n",
      "Requirement already satisfied: charset-normalizer<4,>=2 in /home/morphine/.local/lib/python3.10/site-packages (from requests->unstructured[local-inference]) (3.0.1)\n",
      "Requirement already satisfied: rfc3986[idna2008]<2,>=1.3 in /home/morphine/.local/lib/python3.10/site-packages (from httpx<0.24,>=0.15->argilla->unstructured[local-inference]) (1.5.0)\n",
      "Requirement already satisfied: httpcore<0.17.0,>=0.15.0 in /home/morphine/.local/lib/python3.10/site-packages (from httpx<0.24,>=0.15->argilla->unstructured[local-inference]) (0.16.3)\n",
      "Requirement already satisfied: sniffio in /home/morphine/.local/lib/python3.10/site-packages (from httpx<0.24,>=0.15->argilla->unstructured[local-inference]) (1.3.0)\n",
      "Requirement already satisfied: typing-extensions>=3.7.4.3 in /home/morphine/.local/lib/python3.10/site-packages (from pydantic>=1.7.1->argilla->unstructured[local-inference]) (4.0.1)\n",
      "Requirement already satisfied: six>=1.5 in /usr/lib/python3/dist-packages (from python-dateutil>=2.8.1->pandas->unstructured[local-inference]) (1.16.0)\n",
      "Requirement already satisfied: commonmark<0.10.0,>=0.9.0 in /home/morphine/.local/lib/python3.10/site-packages (from rich<=13.0.1->argilla->unstructured[local-inference]) (0.9.1)\n",
      "Requirement already satisfied: pygments<3.0.0,>=2.6.0 in /home/morphine/.local/lib/python3.10/site-packages (from rich<=13.0.1->argilla->unstructured[local-inference]) (2.14.0)\n"
     ]
    },
    {
     "name": "stdout",
     "output_type": "stream",
     "text": [
      "Requirement already satisfied: starlette<0.27.0,>=0.26.1 in /home/morphine/.local/lib/python3.10/site-packages (from fastapi->unstructured-inference~=0.2.4->unstructured[local-inference]) (0.26.1)\n",
      "Requirement already satisfied: filelock in /home/morphine/.local/lib/python3.10/site-packages (from huggingface-hub->unstructured-inference~=0.2.4->unstructured[local-inference]) (3.9.0)\n",
      "Requirement already satisfied: pyyaml>=5.1 in /home/morphine/.local/lib/python3.10/site-packages (from huggingface-hub->unstructured-inference~=0.2.4->unstructured[local-inference]) (6.0)\n",
      "Requirement already satisfied: scipy in /home/morphine/.local/lib/python3.10/site-packages (from layoutparser[layoutmodels,tesseract]->unstructured-inference~=0.2.4->unstructured[local-inference]) (1.10.1)\n",
      "Requirement already satisfied: pdfplumber in /home/morphine/.local/lib/python3.10/site-packages (from layoutparser[layoutmodels,tesseract]->unstructured-inference~=0.2.4->unstructured[local-inference]) (0.8.0)\n",
      "Requirement already satisfied: pdf2image in /home/morphine/.local/lib/python3.10/site-packages (from layoutparser[layoutmodels,tesseract]->unstructured-inference~=0.2.4->unstructured[local-inference]) (1.16.3)\n",
      "Requirement already satisfied: iopath in /home/morphine/.local/lib/python3.10/site-packages (from layoutparser[layoutmodels,tesseract]->unstructured-inference~=0.2.4->unstructured[local-inference]) (0.1.10)\n",
      "Requirement already satisfied: pytesseract in /home/morphine/.local/lib/python3.10/site-packages (from layoutparser[layoutmodels,tesseract]->unstructured-inference~=0.2.4->unstructured[local-inference]) (0.3.10)\n",
      "Requirement already satisfied: effdet in /home/morphine/.local/lib/python3.10/site-packages (from layoutparser[layoutmodels,tesseract]->unstructured-inference~=0.2.4->unstructured[local-inference]) (0.3.0)\n",
      "Requirement already satisfied: torch in /home/morphine/.local/lib/python3.10/site-packages (from layoutparser[layoutmodels,tesseract]->unstructured-inference~=0.2.4->unstructured[local-inference]) (2.0.0)\n",
      "Requirement already satisfied: torchvision in /home/morphine/.local/lib/python3.10/site-packages (from layoutparser[layoutmodels,tesseract]->unstructured-inference~=0.2.4->unstructured[local-inference]) (0.15.1)\n",
      "Requirement already satisfied: flatbuffers in /home/morphine/.local/lib/python3.10/site-packages (from onnxruntime->unstructured-inference~=0.2.4->unstructured[local-inference]) (23.3.3)\n",
      "Requirement already satisfied: sympy in /home/morphine/.local/lib/python3.10/site-packages (from onnxruntime->unstructured-inference~=0.2.4->unstructured[local-inference]) (1.11.1)\n",
      "Requirement already satisfied: coloredlogs in /home/morphine/.local/lib/python3.10/site-packages (from onnxruntime->unstructured-inference~=0.2.4->unstructured[local-inference]) (15.0.1)\n",
      "Requirement already satisfied: protobuf in /usr/lib/python3/dist-packages (from onnxruntime->unstructured-inference~=0.2.4->unstructured[local-inference]) (3.12.4)\n",
      "Requirement already satisfied: tokenizers!=0.11.3,<0.14,>=0.11.1 in /home/morphine/.local/lib/python3.10/site-packages (from transformers->unstructured-inference~=0.2.4->unstructured[local-inference]) (0.13.2)\n",
      "Requirement already satisfied: h11>=0.8 in /home/morphine/.local/lib/python3.10/site-packages (from uvicorn->unstructured-inference~=0.2.4->unstructured[local-inference]) (0.14.0)\n",
      "Requirement already satisfied: anyio<5.0,>=3.0 in /home/morphine/.local/lib/python3.10/site-packages (from httpcore<0.17.0,>=0.15.0->httpx<0.24,>=0.15->argilla->unstructured[local-inference]) (3.6.2)\n",
      "Requirement already satisfied: humanfriendly>=9.1 in /home/morphine/.local/lib/python3.10/site-packages (from coloredlogs->onnxruntime->unstructured-inference~=0.2.4->unstructured[local-inference]) (10.0)\n",
      "Requirement already satisfied: omegaconf>=2.0 in /home/morphine/.local/lib/python3.10/site-packages (from effdet->layoutparser[layoutmodels,tesseract]->unstructured-inference~=0.2.4->unstructured[local-inference]) (2.3.0)\n",
      "Requirement already satisfied: timm>=0.4.12 in /home/morphine/.local/lib/python3.10/site-packages (from effdet->layoutparser[layoutmodels,tesseract]->unstructured-inference~=0.2.4->unstructured[local-inference]) (0.6.13)\n",
      "Requirement already satisfied: pycocotools>=2.0.2 in /home/morphine/.local/lib/python3.10/site-packages (from effdet->layoutparser[layoutmodels,tesseract]->unstructured-inference~=0.2.4->unstructured[local-inference]) (2.0.6)\n",
      "Requirement already satisfied: nvidia-curand-cu11==10.2.10.91 in /home/morphine/.local/lib/python3.10/site-packages (from torch->layoutparser[layoutmodels,tesseract]->unstructured-inference~=0.2.4->unstructured[local-inference]) (10.2.10.91)\n",
      "Requirement already satisfied: nvidia-cusparse-cu11==11.7.4.91 in /home/morphine/.local/lib/python3.10/site-packages (from torch->layoutparser[layoutmodels,tesseract]->unstructured-inference~=0.2.4->unstructured[local-inference]) (11.7.4.91)\n",
      "Requirement already satisfied: nvidia-cuda-runtime-cu11==11.7.99 in /home/morphine/.local/lib/python3.10/site-packages (from torch->layoutparser[layoutmodels,tesseract]->unstructured-inference~=0.2.4->unstructured[local-inference]) (11.7.99)\n",
      "Requirement already satisfied: nvidia-cuda-cupti-cu11==11.7.101 in /home/morphine/.local/lib/python3.10/site-packages (from torch->layoutparser[layoutmodels,tesseract]->unstructured-inference~=0.2.4->unstructured[local-inference]) (11.7.101)\n",
      "Requirement already satisfied: nvidia-cufft-cu11==10.9.0.58 in /home/morphine/.local/lib/python3.10/site-packages (from torch->layoutparser[layoutmodels,tesseract]->unstructured-inference~=0.2.4->unstructured[local-inference]) (10.9.0.58)\n",
      "Requirement already satisfied: triton==2.0.0 in /home/morphine/.local/lib/python3.10/site-packages (from torch->layoutparser[layoutmodels,tesseract]->unstructured-inference~=0.2.4->unstructured[local-inference]) (2.0.0)\n",
      "Requirement already satisfied: nvidia-cuda-nvrtc-cu11==11.7.99 in /home/morphine/.local/lib/python3.10/site-packages (from torch->layoutparser[layoutmodels,tesseract]->unstructured-inference~=0.2.4->unstructured[local-inference]) (11.7.99)\n",
      "Requirement already satisfied: nvidia-cublas-cu11==11.10.3.66 in /home/morphine/.local/lib/python3.10/site-packages (from torch->layoutparser[layoutmodels,tesseract]->unstructured-inference~=0.2.4->unstructured[local-inference]) (11.10.3.66)\n",
      "Requirement already satisfied: jinja2 in /usr/lib/python3/dist-packages (from torch->layoutparser[layoutmodels,tesseract]->unstructured-inference~=0.2.4->unstructured[local-inference]) (3.0.3)\n",
      "Requirement already satisfied: nvidia-nvtx-cu11==11.7.91 in /home/morphine/.local/lib/python3.10/site-packages (from torch->layoutparser[layoutmodels,tesseract]->unstructured-inference~=0.2.4->unstructured[local-inference]) (11.7.91)\n",
      "Requirement already satisfied: nvidia-cudnn-cu11==8.5.0.96 in /home/morphine/.local/lib/python3.10/site-packages (from torch->layoutparser[layoutmodels,tesseract]->unstructured-inference~=0.2.4->unstructured[local-inference]) (8.5.0.96)\n",
      "Requirement already satisfied: nvidia-cusolver-cu11==11.4.0.1 in /home/morphine/.local/lib/python3.10/site-packages (from torch->layoutparser[layoutmodels,tesseract]->unstructured-inference~=0.2.4->unstructured[local-inference]) (11.4.0.1)\n",
      "Requirement already satisfied: networkx in /home/morphine/.local/lib/python3.10/site-packages (from torch->layoutparser[layoutmodels,tesseract]->unstructured-inference~=0.2.4->unstructured[local-inference]) (3.0)\n",
      "Requirement already satisfied: nvidia-nccl-cu11==2.14.3 in /home/morphine/.local/lib/python3.10/site-packages (from torch->layoutparser[layoutmodels,tesseract]->unstructured-inference~=0.2.4->unstructured[local-inference]) (2.14.3)\n",
      "Requirement already satisfied: wheel in /usr/lib/python3/dist-packages (from nvidia-cublas-cu11==11.10.3.66->torch->layoutparser[layoutmodels,tesseract]->unstructured-inference~=0.2.4->unstructured[local-inference]) (0.37.1)\n",
      "Requirement already satisfied: cmake in /home/morphine/.local/lib/python3.10/site-packages (from triton==2.0.0->torch->layoutparser[layoutmodels,tesseract]->unstructured-inference~=0.2.4->unstructured[local-inference]) (3.26.1)\n",
      "Requirement already satisfied: lit in /home/morphine/.local/lib/python3.10/site-packages (from triton==2.0.0->torch->layoutparser[layoutmodels,tesseract]->unstructured-inference~=0.2.4->unstructured[local-inference]) (16.0.0)\n"
     ]
    },
    {
     "name": "stdout",
     "output_type": "stream",
     "text": [
      "Requirement already satisfied: portalocker in /home/morphine/.local/lib/python3.10/site-packages (from iopath->layoutparser[layoutmodels,tesseract]->unstructured-inference~=0.2.4->unstructured[local-inference]) (2.7.0)\n",
      "Requirement already satisfied: pdfminer.six==20221105 in /home/morphine/.local/lib/python3.10/site-packages (from pdfplumber->layoutparser[layoutmodels,tesseract]->unstructured-inference~=0.2.4->unstructured[local-inference]) (20221105)\n",
      "Requirement already satisfied: Wand>=0.6.10 in /home/morphine/.local/lib/python3.10/site-packages (from pdfplumber->layoutparser[layoutmodels,tesseract]->unstructured-inference~=0.2.4->unstructured[local-inference]) (0.6.11)\n",
      "Requirement already satisfied: cryptography>=36.0.0 in /home/morphine/.local/lib/python3.10/site-packages (from pdfminer.six==20221105->pdfplumber->layoutparser[layoutmodels,tesseract]->unstructured-inference~=0.2.4->unstructured[local-inference]) (40.0.1)\n",
      "Requirement already satisfied: mpmath>=0.19 in /home/morphine/.local/lib/python3.10/site-packages (from sympy->onnxruntime->unstructured-inference~=0.2.4->unstructured[local-inference]) (1.3.0)\n",
      "Requirement already satisfied: antlr4-python3-runtime==4.9.* in /home/morphine/.local/lib/python3.10/site-packages (from omegaconf>=2.0->effdet->layoutparser[layoutmodels,tesseract]->unstructured-inference~=0.2.4->unstructured[local-inference]) (4.9.3)\n",
      "Requirement already satisfied: matplotlib>=2.1.0 in /home/morphine/.local/lib/python3.10/site-packages (from pycocotools>=2.0.2->effdet->layoutparser[layoutmodels,tesseract]->unstructured-inference~=0.2.4->unstructured[local-inference]) (3.7.1)\n",
      "Requirement already satisfied: cffi>=1.12 in /home/morphine/.local/lib/python3.10/site-packages (from cryptography>=36.0.0->pdfminer.six==20221105->pdfplumber->layoutparser[layoutmodels,tesseract]->unstructured-inference~=0.2.4->unstructured[local-inference]) (1.15.1)\n",
      "Requirement already satisfied: contourpy>=1.0.1 in /home/morphine/.local/lib/python3.10/site-packages (from matplotlib>=2.1.0->pycocotools>=2.0.2->effdet->layoutparser[layoutmodels,tesseract]->unstructured-inference~=0.2.4->unstructured[local-inference]) (1.0.7)\n",
      "Requirement already satisfied: fonttools>=4.22.0 in /home/morphine/.local/lib/python3.10/site-packages (from matplotlib>=2.1.0->pycocotools>=2.0.2->effdet->layoutparser[layoutmodels,tesseract]->unstructured-inference~=0.2.4->unstructured[local-inference]) (4.39.3)\n",
      "Requirement already satisfied: pyparsing>=2.3.1 in /usr/lib/python3/dist-packages (from matplotlib>=2.1.0->pycocotools>=2.0.2->effdet->layoutparser[layoutmodels,tesseract]->unstructured-inference~=0.2.4->unstructured[local-inference]) (2.4.7)\n",
      "Requirement already satisfied: kiwisolver>=1.0.1 in /home/morphine/.local/lib/python3.10/site-packages (from matplotlib>=2.1.0->pycocotools>=2.0.2->effdet->layoutparser[layoutmodels,tesseract]->unstructured-inference~=0.2.4->unstructured[local-inference]) (1.4.4)\n",
      "Requirement already satisfied: cycler>=0.10 in /home/morphine/.local/lib/python3.10/site-packages (from matplotlib>=2.1.0->pycocotools>=2.0.2->effdet->layoutparser[layoutmodels,tesseract]->unstructured-inference~=0.2.4->unstructured[local-inference]) (0.11.0)\n",
      "Requirement already satisfied: pycparser in /home/morphine/.local/lib/python3.10/site-packages (from cffi>=1.12->cryptography>=36.0.0->pdfminer.six==20221105->pdfplumber->layoutparser[layoutmodels,tesseract]->unstructured-inference~=0.2.4->unstructured[local-inference]) (2.21)\n",
      "Note: you may need to restart the kernel to use updated packages.\n"
     ]
    }
   ],
   "source": [
    "pip install \"unstructured[local-inference]\""
   ]
  },
  {
   "cell_type": "code",
   "execution_count": 4,
   "id": "f8f94822",
   "metadata": {},
   "outputs": [
    {
     "name": "stdout",
     "output_type": "stream",
     "text": [
      "Defaulting to user installation because normal site-packages is not writeable\n",
      "Requirement already satisfied: langchain in /home/morphine/.local/lib/python3.10/site-packages (0.0.55)\n",
      "Requirement already satisfied: numpy<2,>=1 in /home/morphine/.local/lib/python3.10/site-packages (from langchain) (1.23.5)\n",
      "Requirement already satisfied: pydantic<2,>=1 in /home/morphine/.local/lib/python3.10/site-packages (from langchain) (1.9.2)\n",
      "Requirement already satisfied: requests<3,>=2 in /home/morphine/.local/lib/python3.10/site-packages (from langchain) (2.28.2)\n",
      "Requirement already satisfied: SQLAlchemy<2,>=1 in /home/morphine/.local/lib/python3.10/site-packages (from langchain) (1.4.47)\n",
      "Requirement already satisfied: PyYAML<7,>=6 in /home/morphine/.local/lib/python3.10/site-packages (from langchain) (6.0)\n",
      "Requirement already satisfied: typing-extensions>=3.7.4.3 in /home/morphine/.local/lib/python3.10/site-packages (from pydantic<2,>=1->langchain) (4.0.1)\n",
      "Requirement already satisfied: idna<4,>=2.5 in /usr/lib/python3/dist-packages (from requests<3,>=2->langchain) (3.3)\n",
      "Requirement already satisfied: urllib3<1.27,>=1.21.1 in /usr/lib/python3/dist-packages (from requests<3,>=2->langchain) (1.26.5)\n",
      "Requirement already satisfied: charset-normalizer<4,>=2 in /home/morphine/.local/lib/python3.10/site-packages (from requests<3,>=2->langchain) (3.0.1)\n",
      "Requirement already satisfied: certifi>=2017.4.17 in /home/morphine/.local/lib/python3.10/site-packages (from requests<3,>=2->langchain) (2022.12.7)\n",
      "Requirement already satisfied: greenlet!=0.4.17 in /home/morphine/.local/lib/python3.10/site-packages (from SQLAlchemy<2,>=1->langchain) (2.0.2)\n",
      "Note: you may need to restart the kernel to use updated packages.\n"
     ]
    }
   ],
   "source": [
    "pip install langchain"
   ]
  },
  {
   "cell_type": "code",
   "execution_count": 6,
   "id": "518b63b3",
   "metadata": {},
   "outputs": [
    {
     "name": "stdout",
     "output_type": "stream",
     "text": [
      "Defaulting to user installation because normal site-packages is not writeable\n",
      "Requirement already satisfied: langchain in /home/morphine/.local/lib/python3.10/site-packages (0.0.55)\n",
      "Collecting langchain\n",
      "  Downloading langchain-0.0.130-py3-none-any.whl (472 kB)\n",
      "\u001b[2K     \u001b[38;2;114;156;31m━━━━━━━━━━━━━━━━━━━━━━━━━━━━━━━━━━━━━\u001b[0m \u001b[32m472.9/472.9 KB\u001b[0m \u001b[31m750.4 kB/s\u001b[0m eta \u001b[36m0:00:00\u001b[0mm eta \u001b[36m0:00:01\u001b[0m0:01\u001b[0m\n",
      "\u001b[?25hRequirement already satisfied: numpy<2,>=1 in /home/morphine/.local/lib/python3.10/site-packages (from langchain) (1.23.5)\n",
      "Requirement already satisfied: tenacity<9.0.0,>=8.1.0 in /home/morphine/.local/lib/python3.10/site-packages (from langchain) (8.2.2)\n",
      "Requirement already satisfied: pydantic<2,>=1 in /home/morphine/.local/lib/python3.10/site-packages (from langchain) (1.9.2)\n",
      "Requirement already satisfied: requests<3,>=2 in /home/morphine/.local/lib/python3.10/site-packages (from langchain) (2.28.2)\n",
      "Requirement already satisfied: dataclasses-json<0.6.0,>=0.5.7 in /home/morphine/.local/lib/python3.10/site-packages (from langchain) (0.5.7)\n",
      "Requirement already satisfied: SQLAlchemy<2,>=1 in /home/morphine/.local/lib/python3.10/site-packages (from langchain) (1.4.47)\n",
      "Requirement already satisfied: PyYAML>=5.4.1 in /home/morphine/.local/lib/python3.10/site-packages (from langchain) (6.0)\n",
      "Requirement already satisfied: aiohttp<4.0.0,>=3.8.3 in /home/morphine/.local/lib/python3.10/site-packages (from langchain) (3.8.4)\n",
      "Requirement already satisfied: charset-normalizer<4.0,>=2.0 in /home/morphine/.local/lib/python3.10/site-packages (from aiohttp<4.0.0,>=3.8.3->langchain) (3.0.1)\n",
      "Requirement already satisfied: attrs>=17.3.0 in /home/morphine/.local/lib/python3.10/site-packages (from aiohttp<4.0.0,>=3.8.3->langchain) (22.2.0)\n",
      "Requirement already satisfied: aiosignal>=1.1.2 in /home/morphine/.local/lib/python3.10/site-packages (from aiohttp<4.0.0,>=3.8.3->langchain) (1.3.1)\n",
      "Requirement already satisfied: multidict<7.0,>=4.5 in /home/morphine/.local/lib/python3.10/site-packages (from aiohttp<4.0.0,>=3.8.3->langchain) (6.0.4)\n",
      "Requirement already satisfied: async-timeout<5.0,>=4.0.0a3 in /home/morphine/.local/lib/python3.10/site-packages (from aiohttp<4.0.0,>=3.8.3->langchain) (4.0.2)\n",
      "Requirement already satisfied: frozenlist>=1.1.1 in /home/morphine/.local/lib/python3.10/site-packages (from aiohttp<4.0.0,>=3.8.3->langchain) (1.3.3)\n",
      "Requirement already satisfied: yarl<2.0,>=1.0 in /home/morphine/.local/lib/python3.10/site-packages (from aiohttp<4.0.0,>=3.8.3->langchain) (1.8.2)\n",
      "Requirement already satisfied: typing-inspect>=0.4.0 in /home/morphine/.local/lib/python3.10/site-packages (from dataclasses-json<0.6.0,>=0.5.7->langchain) (0.8.0)\n",
      "Requirement already satisfied: marshmallow<4.0.0,>=3.3.0 in /home/morphine/.local/lib/python3.10/site-packages (from dataclasses-json<0.6.0,>=0.5.7->langchain) (3.5.1)\n",
      "Requirement already satisfied: marshmallow-enum<2.0.0,>=1.5.1 in /home/morphine/.local/lib/python3.10/site-packages (from dataclasses-json<0.6.0,>=0.5.7->langchain) (1.5.1)\n",
      "Requirement already satisfied: typing-extensions>=3.7.4.3 in /home/morphine/.local/lib/python3.10/site-packages (from pydantic<2,>=1->langchain) (4.0.1)\n",
      "Requirement already satisfied: idna<4,>=2.5 in /usr/lib/python3/dist-packages (from requests<3,>=2->langchain) (3.3)\n",
      "Requirement already satisfied: urllib3<1.27,>=1.21.1 in /usr/lib/python3/dist-packages (from requests<3,>=2->langchain) (1.26.5)\n",
      "Requirement already satisfied: certifi>=2017.4.17 in /home/morphine/.local/lib/python3.10/site-packages (from requests<3,>=2->langchain) (2022.12.7)\n",
      "Requirement already satisfied: greenlet!=0.4.17 in /home/morphine/.local/lib/python3.10/site-packages (from SQLAlchemy<2,>=1->langchain) (2.0.2)\n",
      "Requirement already satisfied: mypy-extensions>=0.3.0 in /home/morphine/.local/lib/python3.10/site-packages (from typing-inspect>=0.4.0->dataclasses-json<0.6.0,>=0.5.7->langchain) (1.0.0)\n",
      "Installing collected packages: langchain\n",
      "  Attempting uninstall: langchain\n",
      "    Found existing installation: langchain 0.0.55\n",
      "    Uninstalling langchain-0.0.55:\n",
      "      Successfully uninstalled langchain-0.0.55\n",
      "Successfully installed langchain-0.0.130\n",
      "Note: you may need to restart the kernel to use updated packages.\n"
     ]
    }
   ],
   "source": [
    "pip install --upgrade langchain"
   ]
  },
  {
   "cell_type": "code",
   "execution_count": 2,
   "id": "3de24688",
   "metadata": {},
   "outputs": [
    {
     "name": "stdout",
     "output_type": "stream",
     "text": [
      "['/home/morphine/Desktop/lang', '/usr/lib/python310.zip', '/usr/lib/python3.10', '/usr/lib/python3.10/lib-dynload', '', '/home/morphine/.local/lib/python3.10/site-packages', '/home/morphine/aries-cloudagent-python', '/usr/local/lib/python3.10/dist-packages', '/usr/lib/python3/dist-packages']\n"
     ]
    }
   ],
   "source": [
    "import sys\n",
    "print(sys.path)"
   ]
  },
  {
   "cell_type": "code",
   "execution_count": 3,
   "id": "410e4186",
   "metadata": {},
   "outputs": [],
   "source": [
    "sys.path.append('<path_to_langchain_installation>')"
   ]
  },
  {
   "cell_type": "code",
   "execution_count": 1,
   "id": "85f3ca21",
   "metadata": {},
   "outputs": [],
   "source": [
    "from langchain.document_loaders import UnstructuredPDFLoader, OnlinePDFLoader\n",
    "from langchain.text_splitter import RecursiveCharacterTextSplitter"
   ]
  },
  {
   "cell_type": "code",
   "execution_count": 8,
   "id": "9e148776",
   "metadata": {},
   "outputs": [],
   "source": [
    "#Load your data"
   ]
  },
  {
   "cell_type": "code",
   "execution_count": 2,
   "id": "1a674b8a",
   "metadata": {},
   "outputs": [],
   "source": [
    "loader = OnlinePDFLoader(\"https://wolfpaulus.com/wp-content/uploads/2017/05/field-guide-to-data-science.pdf\")\n",
    "#loader = UnstructuredPDFLoader(\"../data/field-guide-to-data-science.pdf\")"
   ]
  },
  {
   "cell_type": "code",
   "execution_count": null,
   "id": "db1307db",
   "metadata": {},
   "outputs": [],
   "source": [
    "# pip uninstall \"detectron2@git+https://github.com/facebookresearch/detectron2.git@v0.6#egg=detectron2\""
   ]
  },
  {
   "cell_type": "code",
   "execution_count": 3,
   "id": "e7e92ddb",
   "metadata": {},
   "outputs": [
    {
     "name": "stderr",
     "output_type": "stream",
     "text": [
      "detectron2 is not installed. Cannot use the hi_res partitioning strategy. Falling back to partitioning with the fast strategy.\n"
     ]
    }
   ],
   "source": [
    "data = loader.load()"
   ]
  },
  {
   "cell_type": "code",
   "execution_count": 5,
   "id": "aed1b6a3",
   "metadata": {},
   "outputs": [
    {
     "name": "stdout",
     "output_type": "stream",
     "text": [
      "You have 1 document(s) in your data\n",
      "There are 201014 characters in your document\n"
     ]
    }
   ],
   "source": [
    "print (f'You have {len(data)} document(s) in your data')\n",
    "print (f'There are {len(data[0].page_content)} characters in your document')"
   ]
  },
  {
   "cell_type": "code",
   "execution_count": 7,
   "id": "d7dbed75",
   "metadata": {},
   "outputs": [],
   "source": [
    "#Chunk your data up into smaller documents"
   ]
  },
  {
   "cell_type": "code",
   "execution_count": 6,
   "id": "de51668e",
   "metadata": {},
   "outputs": [],
   "source": [
    "text_splitter = RecursiveCharacterTextSplitter(chunk_size=1000, chunk_overlap=0)\n",
    "texts = text_splitter.split_documents(data)"
   ]
  },
  {
   "cell_type": "code",
   "execution_count": 7,
   "id": "209873d4",
   "metadata": {},
   "outputs": [
    {
     "name": "stdout",
     "output_type": "stream",
     "text": [
      "Now you have 240 documents\n"
     ]
    }
   ],
   "source": [
    "print (f'Now you have {len(texts)} documents')"
   ]
  },
  {
   "cell_type": "code",
   "execution_count": 11,
   "id": "8fcb5874",
   "metadata": {},
   "outputs": [],
   "source": [
    "#Create embeddings of your documents to get ready for semantic search"
   ]
  },
  {
   "cell_type": "code",
   "execution_count": 14,
   "id": "d83f03d3",
   "metadata": {},
   "outputs": [
    {
     "name": "stdout",
     "output_type": "stream",
     "text": [
      "Defaulting to user installation because normal site-packages is not writeable\n",
      "Collecting pinecone-client\n",
      "  Downloading pinecone_client-2.2.1-py3-none-any.whl (177 kB)\n",
      "\u001b[2K     \u001b[38;2;114;156;31m━━━━━━━━━━━━━━━━━━━━━━━━━━━━━━━━━━━━━\u001b[0m \u001b[32m177.2/177.2 KB\u001b[0m \u001b[31m183.6 kB/s\u001b[0m eta \u001b[36m0:00:00\u001b[0m[36m0:00:01\u001b[0mm eta \u001b[36m0:00:01\u001b[0m\n",
      "\u001b[?25hRequirement already satisfied: python-dateutil>=2.5.3 in /home/morphine/.local/lib/python3.10/site-packages (from pinecone-client) (2.8.2)\n",
      "Requirement already satisfied: pyyaml>=5.4 in /home/morphine/.local/lib/python3.10/site-packages (from pinecone-client) (6.0)\n",
      "Requirement already satisfied: dnspython>=2.0.0 in /usr/lib/python3/dist-packages (from pinecone-client) (2.1.0)\n",
      "Requirement already satisfied: urllib3>=1.21.1 in /usr/lib/python3/dist-packages (from pinecone-client) (1.26.5)\n",
      "Requirement already satisfied: requests>=2.19.0 in /home/morphine/.local/lib/python3.10/site-packages (from pinecone-client) (2.28.2)\n",
      "Requirement already satisfied: numpy in /home/morphine/.local/lib/python3.10/site-packages (from pinecone-client) (1.23.5)\n",
      "Collecting loguru>=0.5.0\n",
      "  Downloading loguru-0.6.0-py3-none-any.whl (58 kB)\n",
      "\u001b[2K     \u001b[38;2;114;156;31m━━━━━━━━━━━━━━━━━━━━━━━━━━━━━━━━━━━━━━━\u001b[0m \u001b[32m58.3/58.3 KB\u001b[0m \u001b[31m759.9 kB/s\u001b[0m eta \u001b[36m0:00:00\u001b[0mMB/s\u001b[0m eta \u001b[36m0:00:01\u001b[0m\n",
      "\u001b[?25hRequirement already satisfied: typing-extensions>=3.7.4 in /home/morphine/.local/lib/python3.10/site-packages (from pinecone-client) (4.0.1)\n",
      "Requirement already satisfied: tqdm>=4.64.1 in /home/morphine/.local/lib/python3.10/site-packages (from pinecone-client) (4.65.0)\n",
      "Requirement already satisfied: six>=1.5 in /usr/lib/python3/dist-packages (from python-dateutil>=2.5.3->pinecone-client) (1.16.0)\n",
      "Requirement already satisfied: certifi>=2017.4.17 in /home/morphine/.local/lib/python3.10/site-packages (from requests>=2.19.0->pinecone-client) (2022.12.7)\n",
      "Requirement already satisfied: idna<4,>=2.5 in /usr/lib/python3/dist-packages (from requests>=2.19.0->pinecone-client) (3.3)\n",
      "Requirement already satisfied: charset-normalizer<4,>=2 in /home/morphine/.local/lib/python3.10/site-packages (from requests>=2.19.0->pinecone-client) (3.0.1)\n",
      "Installing collected packages: loguru, pinecone-client\n",
      "Successfully installed loguru-0.6.0 pinecone-client-2.2.1\n",
      "Note: you may need to restart the kernel to use updated packages.\n"
     ]
    }
   ],
   "source": [
    "pip install pinecone-client"
   ]
  },
  {
   "cell_type": "code",
   "execution_count": 9,
   "id": "64d227b1",
   "metadata": {},
   "outputs": [],
   "source": [
    "from langchain.vectorstores import Chroma, Pinecone\n",
    "from langchain.embeddings.openai import OpenAIEmbeddings\n",
    "import pinecone\n",
    "from tqdm.autonotebook import tqdm"
   ]
  },
  {
   "cell_type": "code",
   "execution_count": 2,
   "id": "8a3aaf6a",
   "metadata": {},
   "outputs": [
    {
     "name": "stdout",
     "output_type": "stream",
     "text": [
      "Defaulting to user installation because normal site-packages is not writeable\n",
      "Collecting ipywidgets\n",
      "  Downloading ipywidgets-8.0.6-py3-none-any.whl (138 kB)\n",
      "\u001b[2K     \u001b[38;2;114;156;31m━━━━━━━━━━━━━━━━━━━━━━━━━━━━━━━━━━━━━━━\u001b[0m \u001b[32m138.3/138.3 KB\u001b[0m \u001b[31m1.7 MB/s\u001b[0m eta \u001b[36m0:00:00\u001b[0m[31m3.4 MB/s\u001b[0m eta \u001b[36m0:00:01\u001b[0m\n",
      "\u001b[?25hRequirement already satisfied: ipykernel>=4.5.1 in /home/morphine/.local/lib/python3.10/site-packages (from ipywidgets) (6.22.0)\n",
      "Requirement already satisfied: ipython>=6.1.0 in /home/morphine/.local/lib/python3.10/site-packages (from ipywidgets) (8.11.0)\n",
      "Requirement already satisfied: traitlets>=4.3.1 in /home/morphine/.local/lib/python3.10/site-packages (from ipywidgets) (5.9.0)\n",
      "Collecting widgetsnbextension~=4.0.7\n",
      "  Downloading widgetsnbextension-4.0.7-py3-none-any.whl (2.1 MB)\n",
      "\u001b[2K     \u001b[38;2;114;156;31m━━━━━━━━━━━━━━━━━━━━━━━━━━━━━━━━━━━━━━━━\u001b[0m \u001b[32m2.1/2.1 MB\u001b[0m \u001b[31m10.3 MB/s\u001b[0m eta \u001b[36m0:00:00\u001b[0mm eta \u001b[36m0:00:01\u001b[0m0:01\u001b[0m:01\u001b[0m\n",
      "\u001b[?25hCollecting jupyterlab-widgets~=3.0.7\n",
      "  Downloading jupyterlab_widgets-3.0.7-py3-none-any.whl (198 kB)\n",
      "\u001b[2K     \u001b[38;2;114;156;31m━━━━━━━━━━━━━━━━━━━━━━━━━━━━━━━━━━━━━━━\u001b[0m \u001b[32m198.2/198.2 KB\u001b[0m \u001b[31m1.9 MB/s\u001b[0m eta \u001b[36m0:00:00\u001b[0m[36m0:00:01\u001b[0m\n",
      "\u001b[?25hRequirement already satisfied: packaging in /home/morphine/.local/lib/python3.10/site-packages (from ipykernel>=4.5.1->ipywidgets) (23.0)\n",
      "Requirement already satisfied: jupyter-client>=6.1.12 in /home/morphine/.local/lib/python3.10/site-packages (from ipykernel>=4.5.1->ipywidgets) (8.1.0)\n",
      "Requirement already satisfied: psutil in /home/morphine/.local/lib/python3.10/site-packages (from ipykernel>=4.5.1->ipywidgets) (5.9.4)\n",
      "Requirement already satisfied: tornado>=6.1 in /home/morphine/.local/lib/python3.10/site-packages (from ipykernel>=4.5.1->ipywidgets) (6.2)\n",
      "Requirement already satisfied: jupyter-core!=5.0.*,>=4.12 in /home/morphine/.local/lib/python3.10/site-packages (from ipykernel>=4.5.1->ipywidgets) (5.3.0)\n",
      "Requirement already satisfied: matplotlib-inline>=0.1 in /home/morphine/.local/lib/python3.10/site-packages (from ipykernel>=4.5.1->ipywidgets) (0.1.6)\n",
      "Requirement already satisfied: comm>=0.1.1 in /home/morphine/.local/lib/python3.10/site-packages (from ipykernel>=4.5.1->ipywidgets) (0.1.3)\n",
      "Requirement already satisfied: nest-asyncio in /home/morphine/.local/lib/python3.10/site-packages (from ipykernel>=4.5.1->ipywidgets) (1.5.6)\n",
      "Requirement already satisfied: debugpy>=1.6.5 in /home/morphine/.local/lib/python3.10/site-packages (from ipykernel>=4.5.1->ipywidgets) (1.6.6)\n",
      "Requirement already satisfied: pyzmq>=20 in /home/morphine/.local/lib/python3.10/site-packages (from ipykernel>=4.5.1->ipywidgets) (25.0.2)\n",
      "Requirement already satisfied: stack-data in /home/morphine/.local/lib/python3.10/site-packages (from ipython>=6.1.0->ipywidgets) (0.6.2)\n",
      "Requirement already satisfied: pygments>=2.4.0 in /home/morphine/.local/lib/python3.10/site-packages (from ipython>=6.1.0->ipywidgets) (2.14.0)\n",
      "Requirement already satisfied: prompt-toolkit!=3.0.37,<3.1.0,>=3.0.30 in /home/morphine/.local/lib/python3.10/site-packages (from ipython>=6.1.0->ipywidgets) (3.0.38)\n",
      "Requirement already satisfied: backcall in /home/morphine/.local/lib/python3.10/site-packages (from ipython>=6.1.0->ipywidgets) (0.2.0)\n",
      "Requirement already satisfied: decorator in /home/morphine/.local/lib/python3.10/site-packages (from ipython>=6.1.0->ipywidgets) (5.1.1)\n",
      "Requirement already satisfied: pickleshare in /home/morphine/.local/lib/python3.10/site-packages (from ipython>=6.1.0->ipywidgets) (0.7.5)\n",
      "Requirement already satisfied: jedi>=0.16 in /home/morphine/.local/lib/python3.10/site-packages (from ipython>=6.1.0->ipywidgets) (0.18.2)\n",
      "Requirement already satisfied: pexpect>4.3 in /usr/lib/python3/dist-packages (from ipython>=6.1.0->ipywidgets) (4.8.0)\n",
      "Requirement already satisfied: parso<0.9.0,>=0.8.0 in /home/morphine/.local/lib/python3.10/site-packages (from jedi>=0.16->ipython>=6.1.0->ipywidgets) (0.8.3)\n",
      "Requirement already satisfied: python-dateutil>=2.8.2 in /home/morphine/.local/lib/python3.10/site-packages (from jupyter-client>=6.1.12->ipykernel>=4.5.1->ipywidgets) (2.8.2)\n",
      "Requirement already satisfied: platformdirs>=2.5 in /home/morphine/.local/lib/python3.10/site-packages (from jupyter-core!=5.0.*,>=4.12->ipykernel>=4.5.1->ipywidgets) (3.0.0)\n",
      "Requirement already satisfied: wcwidth in /home/morphine/.local/lib/python3.10/site-packages (from prompt-toolkit!=3.0.37,<3.1.0,>=3.0.30->ipython>=6.1.0->ipywidgets) (0.2.6)\n",
      "Requirement already satisfied: pure-eval in /home/morphine/.local/lib/python3.10/site-packages (from stack-data->ipython>=6.1.0->ipywidgets) (0.2.2)\n",
      "Requirement already satisfied: executing>=1.2.0 in /home/morphine/.local/lib/python3.10/site-packages (from stack-data->ipython>=6.1.0->ipywidgets) (1.2.0)\n",
      "Requirement already satisfied: asttokens>=2.1.0 in /home/morphine/.local/lib/python3.10/site-packages (from stack-data->ipython>=6.1.0->ipywidgets) (2.2.1)\n",
      "Requirement already satisfied: six in /usr/lib/python3/dist-packages (from asttokens>=2.1.0->stack-data->ipython>=6.1.0->ipywidgets) (1.16.0)\n",
      "Installing collected packages: widgetsnbextension, jupyterlab-widgets, ipywidgets\n",
      "Successfully installed ipywidgets-8.0.6 jupyterlab-widgets-3.0.7 widgetsnbextension-4.0.7\n",
      "Note: you may need to restart the kernel to use updated packages.\n"
     ]
    }
   ],
   "source": [
    "pip install ipywidgets"
   ]
  },
  {
   "cell_type": "code",
   "execution_count": 10,
   "id": "fe8b96a1",
   "metadata": {},
   "outputs": [],
   "source": [
    "OPENAI_API_KEY = '...'\n",
    "PINECONE_API_KEY = '...'\n",
    "PINECONE_API_ENV = 'us-east4-gcp'"
   ]
  },
  {
   "cell_type": "code",
   "execution_count": 11,
   "id": "c28b1549",
   "metadata": {},
   "outputs": [],
   "source": [
    "embeddings = OpenAIEmbeddings(openai_api_key=OPENAI_API_KEY)"
   ]
  },
  {
   "cell_type": "code",
   "execution_count": 12,
   "id": "6a8840f4",
   "metadata": {},
   "outputs": [],
   "source": [
    "# initialize pinecone\n",
    "pinecone.init(\n",
    "    api_key=PINECONE_API_KEY,  # find at app.pinecone.io\n",
    "    environment=PINECONE_API_ENV  # next to api key in console\n",
    ")\n",
    "index_name = \"langchain\""
   ]
  },
  {
   "cell_type": "code",
   "execution_count": 13,
   "id": "a4524cf2",
   "metadata": {},
   "outputs": [],
   "source": [
    "docsearch = Pinecone.from_texts([t.page_content for t in texts], embeddings, index_name=index_name)"
   ]
  },
  {
   "cell_type": "code",
   "execution_count": 14,
   "id": "1eb9e162",
   "metadata": {},
   "outputs": [],
   "source": [
    "query = \"What are examples of good data science teams?\"\n",
    "docs = docsearch.similarity_search(query, include_metadata=True)"
   ]
  },
  {
   "cell_type": "code",
   "execution_count": 15,
   "id": "e372da0b",
   "metadata": {},
   "outputs": [],
   "source": [
    "#Query those docs to get your answer back"
   ]
  },
  {
   "cell_type": "code",
   "execution_count": 16,
   "id": "ee0328a8",
   "metadata": {},
   "outputs": [],
   "source": [
    "from langchain.llms import OpenAI\n",
    "from langchain.chains.question_answering import load_qa_chain"
   ]
  },
  {
   "cell_type": "code",
   "execution_count": 17,
   "id": "2779cbe5",
   "metadata": {},
   "outputs": [],
   "source": [
    "llm = OpenAI(temperature=0, openai_api_key=OPENAI_API_KEY)\n",
    "chain = load_qa_chain(llm, chain_type=\"stuff\")"
   ]
  },
  {
   "cell_type": "code",
   "execution_count": 20,
   "id": "b0bd03c3",
   "metadata": {},
   "outputs": [],
   "source": [
    "query = \"Could you please explain me about model validation?\"\n",
    "docs = docsearch.similarity_search(query, include_metadata=True)"
   ]
  },
  {
   "cell_type": "code",
   "execution_count": 21,
   "id": "f9edcfa6",
   "metadata": {},
   "outputs": [
    {
     "data": {
      "text/plain": [
       "' Model validation is the process of assessing how well a model fits the observed data. It is used to answer the question “How well did my hypothesis fit the observed data?” To validate a model, the data is usually split into training, testing and validation sets. The model is constructed with the training data and then evaluated with the testing data. The performance of the model against the testing set is used to further reduce model error. Finally, the model is evaluated on the validation data to assess how well the model generalizes. Statistical methods such as calculating the coefficient of determination, commonly called the R-squared value, are also used to validate models.'"
      ]
     },
     "execution_count": 21,
     "metadata": {},
     "output_type": "execute_result"
    }
   ],
   "source": [
    "chain.run(input_documents=docs, question=query)"
   ]
  },
  {
   "cell_type": "code",
   "execution_count": null,
   "id": "7f30eddf",
   "metadata": {},
   "outputs": [],
   "source": []
  }
 ],
 "metadata": {
  "kernelspec": {
   "display_name": "Python 3 (ipykernel)",
   "language": "python",
   "name": "python3"
  },
  "language_info": {
   "codemirror_mode": {
    "name": "ipython",
    "version": 3
   },
   "file_extension": ".py",
   "mimetype": "text/x-python",
   "name": "python",
   "nbconvert_exporter": "python",
   "pygments_lexer": "ipython3",
   "version": "3.10.6"
  }
 },
 "nbformat": 4,
 "nbformat_minor": 5
}
