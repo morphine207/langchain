{
 "cells": [
  {
   "cell_type": "code",
   "execution_count": 3,
   "id": "482b420c",
   "metadata": {},
   "outputs": [
    {
     "name": "stdout",
     "output_type": "stream",
     "text": [
      "Defaulting to user installation because normal site-packages is not writeable\n",
      "Requirement already satisfied: langchain==0.0.55 in /home/morphine/.local/lib/python3.10/site-packages (0.0.55)\n",
      "Requirement already satisfied: requests in /home/morphine/.local/lib/python3.10/site-packages (2.28.2)\n",
      "Requirement already satisfied: openai in /home/morphine/.local/lib/python3.10/site-packages (0.27.2)\n",
      "Requirement already satisfied: transformers in /home/morphine/.local/lib/python3.10/site-packages (4.27.3)\n",
      "Requirement already satisfied: faiss-cpu in /home/morphine/.local/lib/python3.10/site-packages (1.7.3)\n",
      "Requirement already satisfied: pydantic<2,>=1 in /home/morphine/.local/lib/python3.10/site-packages (from langchain==0.0.55) (1.9.2)\n",
      "Requirement already satisfied: SQLAlchemy<2,>=1 in /home/morphine/.local/lib/python3.10/site-packages (from langchain==0.0.55) (1.4.47)\n",
      "Requirement already satisfied: numpy<2,>=1 in /home/morphine/.local/lib/python3.10/site-packages (from langchain==0.0.55) (1.24.2)\n",
      "Requirement already satisfied: PyYAML<7,>=6 in /home/morphine/.local/lib/python3.10/site-packages (from langchain==0.0.55) (6.0)\n",
      "Requirement already satisfied: urllib3<1.27,>=1.21.1 in /usr/lib/python3/dist-packages (from requests) (1.26.5)\n",
      "Requirement already satisfied: idna<4,>=2.5 in /usr/lib/python3/dist-packages (from requests) (3.3)\n",
      "Requirement already satisfied: charset-normalizer<4,>=2 in /home/morphine/.local/lib/python3.10/site-packages (from requests) (3.0.1)\n",
      "Requirement already satisfied: certifi>=2017.4.17 in /usr/lib/python3/dist-packages (from requests) (2020.6.20)\n",
      "Requirement already satisfied: tqdm in /home/morphine/.local/lib/python3.10/site-packages (from openai) (4.65.0)\n",
      "Requirement already satisfied: aiohttp in /home/morphine/.local/lib/python3.10/site-packages (from openai) (3.8.4)\n",
      "Requirement already satisfied: huggingface-hub<1.0,>=0.11.0 in /home/morphine/.local/lib/python3.10/site-packages (from transformers) (0.13.3)\n",
      "Requirement already satisfied: regex!=2019.12.17 in /home/morphine/.local/lib/python3.10/site-packages (from transformers) (2023.3.23)\n",
      "Requirement already satisfied: tokenizers!=0.11.3,<0.14,>=0.11.1 in /home/morphine/.local/lib/python3.10/site-packages (from transformers) (0.13.2)\n",
      "Requirement already satisfied: packaging>=20.0 in /home/morphine/.local/lib/python3.10/site-packages (from transformers) (23.0)\n",
      "Requirement already satisfied: filelock in /home/morphine/.local/lib/python3.10/site-packages (from transformers) (3.9.0)\n",
      "Requirement already satisfied: typing-extensions>=3.7.4.3 in /home/morphine/.local/lib/python3.10/site-packages (from huggingface-hub<1.0,>=0.11.0->transformers) (4.0.1)\n",
      "Requirement already satisfied: greenlet!=0.4.17 in /home/morphine/.local/lib/python3.10/site-packages (from SQLAlchemy<2,>=1->langchain==0.0.55) (2.0.2)\n",
      "Requirement already satisfied: aiosignal>=1.1.2 in /home/morphine/.local/lib/python3.10/site-packages (from aiohttp->openai) (1.3.1)\n",
      "Requirement already satisfied: multidict<7.0,>=4.5 in /home/morphine/.local/lib/python3.10/site-packages (from aiohttp->openai) (6.0.4)\n",
      "Requirement already satisfied: attrs>=17.3.0 in /home/morphine/.local/lib/python3.10/site-packages (from aiohttp->openai) (22.2.0)\n",
      "Requirement already satisfied: frozenlist>=1.1.1 in /home/morphine/.local/lib/python3.10/site-packages (from aiohttp->openai) (1.3.3)\n",
      "Requirement already satisfied: async-timeout<5.0,>=4.0.0a3 in /home/morphine/.local/lib/python3.10/site-packages (from aiohttp->openai) (4.0.2)\n",
      "Requirement already satisfied: yarl<2.0,>=1.0 in /home/morphine/.local/lib/python3.10/site-packages (from aiohttp->openai) (1.8.2)\n",
      "Note: you may need to restart the kernel to use updated packages.\n"
     ]
    }
   ],
   "source": [
    "pip install langchain==0.0.55 requests openai transformers faiss-cpu"
   ]
  },
  {
   "cell_type": "code",
   "execution_count": 5,
   "id": "405d6a69",
   "metadata": {},
   "outputs": [],
   "source": [
    "from langchain.llms import OpenAI\n",
    "from langchain.chains.qa_with_sources import load_qa_with_sources_chain\n",
    "from langchain.docstore.document import Document\n",
    "import requests"
   ]
  },
  {
   "cell_type": "code",
   "execution_count": 6,
   "id": "6974490d",
   "metadata": {},
   "outputs": [],
   "source": [
    "import os\n",
    "os.environ[\"OPENAI_API_KEY\"] = \"...\""
   ]
  },
  {
   "cell_type": "code",
   "execution_count": 7,
   "id": "463b6cbd",
   "metadata": {},
   "outputs": [],
   "source": [
    "def get_wiki_data(title, first_paragraph_only):\n",
    "    url = f\"https://en.wikipedia.org/w/api.php?format=json&action=query&prop=extracts&explaintext=1&titles={title}\"\n",
    "    if first_paragraph_only:\n",
    "        url += \"&exintro=1\"\n",
    "    data = requests.get(url).json()\n",
    "    return Document(\n",
    "        page_content=list(data[\"query\"][\"pages\"].values())[0][\"extract\"],\n",
    "        metadata={\"source\": f\"https://en.wikipedia.org/wiki/{title}\"},\n",
    "    )"
   ]
  },
  {
   "cell_type": "code",
   "execution_count": 8,
   "id": "5fb6c5ca",
   "metadata": {},
   "outputs": [],
   "source": [
    "from langchain.text_splitter import CharacterTextSplitter"
   ]
  },
  {
   "cell_type": "code",
   "execution_count": 9,
   "id": "13a6e29d",
   "metadata": {},
   "outputs": [],
   "source": [
    "chain = load_qa_with_sources_chain(OpenAI(temperature=0))\n",
    "\n",
    "def print_answer(question):\n",
    "    print(\n",
    "        chain(\n",
    "            {\n",
    "                \"input_documents\": search_index.similarity_search(question, k=4),\n",
    "                \"question\": question,\n",
    "            },\n",
    "            return_only_outputs=True,\n",
    "        )[\"output_text\"]\n",
    "    )"
   ]
  },
  {
   "cell_type": "code",
   "execution_count": 10,
   "id": "61f5a4e6",
   "metadata": {},
   "outputs": [],
   "source": [
    "import pathlib\n",
    "import subprocess\n",
    "import tempfile"
   ]
  },
  {
   "cell_type": "code",
   "execution_count": 11,
   "id": "cc17652c",
   "metadata": {},
   "outputs": [],
   "source": [
    "from langchain.embeddings.openai import OpenAIEmbeddings\n",
    "from langchain.vectorstores.faiss import FAISS"
   ]
  },
  {
   "cell_type": "code",
   "execution_count": 16,
   "id": "614e23c8",
   "metadata": {},
   "outputs": [
    {
     "name": "stdout",
     "output_type": "stream",
     "text": [
      "Defaulting to user installation because normal site-packages is not writeable\n",
      "\u001b[31mERROR: Could not find a version that satisfies the requirement faiss (from versions: none)\u001b[0m\u001b[31m\n",
      "\u001b[0m\u001b[31mERROR: No matching distribution found for faiss\u001b[0m\u001b[31m\n",
      "\u001b[0mNote: you may need to restart the kernel to use updated packages.\n"
     ]
    }
   ],
   "source": [
    "pip install faiss"
   ]
  },
  {
   "cell_type": "code",
   "execution_count": 12,
   "id": "8c161af2",
   "metadata": {},
   "outputs": [
    {
     
    }
   ],
   "source": [
    "search_index = FAISS.from_documents(sources, OpenAIEmbeddings())"
   ]
  },
  {
   "cell_type": "code",
   "execution_count": 13,
   "id": "79d146fe",
   "metadata": {},
   "outputs": [],
   "source": [
    "def get_github_docs(repo_owner, repo_name):\n",
    "    with tempfile.TemporaryDirectory() as d:\n",
    "        subprocess.check_call(\n",
    "            f\"git clone --depth 1 https://github.com/{repo_owner}/{repo_name}.git .\",\n",
    "            cwd=d,\n",
    "            shell=True,\n",
    "        )\n",
    "        git_sha = (\n",
    "            subprocess.check_output(\"git rev-parse HEAD\", shell=True, cwd=d)\n",
    "            .decode(\"utf-8\")\n",
    "            .strip()\n",
    "        )\n",
    "        repo_path = pathlib.Path(d)\n",
    "        markdown_files = list(repo_path.glob(\"*/*.md\")) + list(\n",
    "            repo_path.glob(\"*/*.mdx\")\n",
    "        )\n",
    "        for markdown_file in markdown_files:\n",
    "            with open(markdown_file, \"r\") as f:\n",
    "                relative_path = markdown_file.relative_to(repo_path)\n",
    "                github_url = f\"https://github.com/{repo_owner}/{repo_name}/blob/{git_sha}/{relative_path}\"\n",
    "                yield Document(page_content=f.read(), metadata={\"source\": github_url})"
   ]
  },
  {
   "cell_type": "code",
   "execution_count": 14,
   "id": "0b52b166",
   "metadata": {},
   "outputs": [],
   "source": [
    "sources = get_github_docs(\"hyperledger\", \"aries-cloudagent-python\")"
   ]
  },
  {
   "cell_type": "code",
   "execution_count": 15,
   "id": "8a521e14",
   "metadata": {},
   "outputs": [
    {
     "name": "stderr",
     "output_type": "stream",
     "text": [
      "Cloning into '.'...\n"
     ]
    }
   ],
   "source": [
    "source_chunks = []\n",
    "splitter = CharacterTextSplitter(separator=\" \", chunk_size=1024, chunk_overlap=0)\n",
    "for source in sources:\n",
    "    for chunk in splitter.split_text(source.page_content):\n",
    "        source_chunks.append(Document(page_content=chunk, metadata=source.metadata))\n",
    "\n",
    "search_index = FAISS.from_documents(source_chunks, OpenAIEmbeddings())"
   ]
  },
  {
   "cell_type": "code",
   "execution_count": 16,
   "id": "43581b6f",
   "metadata": {},
   "outputs": [
    {
     "name": "stdout",
     "output_type": "stream",
     "text": [
      " Hyperledger Aries is an open source, secure, and privacy-preserving framework for decentralized identity. It is designed to help developers create applications that interact with decentralized identity systems.\n",
      "SOURCES: https://www.hyperledger.org/projects/hyperledger-aries\n"
     ]
    }
   ],
   "source": [
    "print_answer(\"what is a hyperledger aries?\")"
   ]
  },
  {
   "cell_type": "code",
   "execution_count": 17,
   "id": "670c36e4",
   "metadata": {},
   "outputs": [
    {
     "name": "stdout",
     "output_type": "stream",
     "text": [
      " The multitenancy model allows multiple tenants to use the same instance of an application. It is a way of partitioning a single instance of software so that multiple tenants can use it simultaneously. Each tenant has its own data and configuration settings, and the application is designed to isolate tenants from each other.\n",
      "SOURCES: https://github.com/hyperledger/aries-cloudagent-python/blob/master/Multitenancy.md\n"
     ]
    }
   ],
   "source": [
    "print_answer(\"Cna you please describe how the multitenancy model works?\")"
   ]
  },
  {
   "cell_type": "code",
   "execution_count": 18,
   "id": "2d4f8773",
   "metadata": {
    "scrolled": true
   },
   "outputs": [
    {
     "name": "stdout",
     "output_type": "stream",
     "text": [
      " Aries architecture is a cloud-based agent-oriented architecture that enables secure, decentralized communication between agents. It is based on Hyperledger Indy, a distributed ledger technology, and uses the Aries Cloud Agent Python (ACA-Py) to implement an application. It includes features such as exchanging messages, issuing and proving credentials, and running a local Indy ledger.\n",
      "SOURCES:\n",
      "https://github.com/hyperledger/aries-cloudagent-python/blob/45c832658245747a3366735f6179362d127bae02/docs/README.md\n",
      "https://github.com/hyperledger/aries-cloudagent-python/blob/45c832658245747a3366735f6179362d127bae02/demo/README.md\n"
     ]
    }
   ],
   "source": [
    "print_answer(\"Can you please describe the aries architecture?\")"
   ]
  }
 ],
 "metadata": {
  "kernelspec": {
   "display_name": "Python 3 (ipykernel)",
   "language": "python",
   "name": "python3"
  },
  "language_info": {
   "codemirror_mode": {
    "name": "ipython",
    "version": 3
   },
   "file_extension": ".py",
   "mimetype": "text/x-python",
   "name": "python",
   "nbconvert_exporter": "python",
   "pygments_lexer": "ipython3",
   "version": "3.10.6"
  }
 },
 "nbformat": 4,
 "nbformat_minor": 5
}
